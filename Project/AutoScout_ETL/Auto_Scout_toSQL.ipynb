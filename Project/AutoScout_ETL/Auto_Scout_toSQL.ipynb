{
 "cells": [
  {
   "cell_type": "code",
   "execution_count": 1,
   "id": "506e4c5b",
   "metadata": {
    "ExecuteTime": {
     "end_time": "2022-10-01T11:34:48.573771Z",
     "start_time": "2022-10-01T11:34:47.246867Z"
    }
   },
   "outputs": [],
   "source": [
    "import pyodbc\n",
    "import pandas as pd\n",
    "import numpy as np"
   ]
  },
  {
   "cell_type": "code",
   "execution_count": 2,
   "id": "4893aa21",
   "metadata": {
    "ExecuteTime": {
     "end_time": "2022-10-01T11:34:48.953076Z",
     "start_time": "2022-10-01T11:34:48.574200Z"
    }
   },
   "outputs": [
    {
     "data": {
      "text/html": [
       "<div>\n",
       "<style scoped>\n",
       "    .dataframe tbody tr th:only-of-type {\n",
       "        vertical-align: middle;\n",
       "    }\n",
       "\n",
       "    .dataframe tbody tr th {\n",
       "        vertical-align: top;\n",
       "    }\n",
       "\n",
       "    .dataframe thead th {\n",
       "        text-align: right;\n",
       "    }\n",
       "</style>\n",
       "<table border=\"1\" class=\"dataframe\">\n",
       "  <thead>\n",
       "    <tr style=\"text-align: right;\">\n",
       "      <th></th>\n",
       "      <th>Model</th>\n",
       "      <th>Body_Type</th>\n",
       "      <th>Price</th>\n",
       "      <th>Vat</th>\n",
       "      <th>Km</th>\n",
       "      <th>Prev_Owner</th>\n",
       "      <th>Type</th>\n",
       "      <th>Body_Color</th>\n",
       "      <th>Seat_Total</th>\n",
       "      <th>Gear_Type</th>\n",
       "      <th>...</th>\n",
       "      <th>Entertainment_Media</th>\n",
       "      <th>Extras</th>\n",
       "      <th>Safety_Security</th>\n",
       "      <th>Gears</th>\n",
       "      <th>Consumption</th>\n",
       "      <th>Hp</th>\n",
       "      <th>Emission</th>\n",
       "      <th>Upholstery_Type</th>\n",
       "      <th>Engine_Size</th>\n",
       "      <th>Age</th>\n",
       "    </tr>\n",
       "  </thead>\n",
       "  <tbody>\n",
       "    <tr>\n",
       "      <th>0</th>\n",
       "      <td>Audi A1</td>\n",
       "      <td>Sedans</td>\n",
       "      <td>15770.0</td>\n",
       "      <td>VAT deductible</td>\n",
       "      <td>56013.0</td>\n",
       "      <td>2.0</td>\n",
       "      <td>Used</td>\n",
       "      <td>Black</td>\n",
       "      <td>5.0</td>\n",
       "      <td>Automatic</td>\n",
       "      <td>...</td>\n",
       "      <td>Bluetooth,Hands-free equipment,On-board comput...</td>\n",
       "      <td>Alloy wheels,Catalytic Converter,Voice Control</td>\n",
       "      <td>ABS,Central door lock,Daytime running lights,D...</td>\n",
       "      <td>5.0</td>\n",
       "      <td>3.8</td>\n",
       "      <td>66.0</td>\n",
       "      <td>99.0</td>\n",
       "      <td>Cloth</td>\n",
       "      <td>1.4</td>\n",
       "      <td>3.0</td>\n",
       "    </tr>\n",
       "    <tr>\n",
       "      <th>1</th>\n",
       "      <td>Audi A1</td>\n",
       "      <td>Sedans</td>\n",
       "      <td>14500.0</td>\n",
       "      <td>Price negotiable</td>\n",
       "      <td>80000.0</td>\n",
       "      <td>1.0</td>\n",
       "      <td>Used</td>\n",
       "      <td>Red</td>\n",
       "      <td>4.0</td>\n",
       "      <td>Automatic</td>\n",
       "      <td>...</td>\n",
       "      <td>Bluetooth,Hands-free equipment,On-board comput...</td>\n",
       "      <td>Alloy wheels,Sport seats,Sport suspension,Voic...</td>\n",
       "      <td>ABS,Central door lock,Central door lock with r...</td>\n",
       "      <td>7.0</td>\n",
       "      <td>5.6</td>\n",
       "      <td>141.0</td>\n",
       "      <td>129.0</td>\n",
       "      <td>Cloth</td>\n",
       "      <td>1.8</td>\n",
       "      <td>2.0</td>\n",
       "    </tr>\n",
       "    <tr>\n",
       "      <th>2</th>\n",
       "      <td>Audi A1</td>\n",
       "      <td>Sedans</td>\n",
       "      <td>14640.0</td>\n",
       "      <td>VAT deductible</td>\n",
       "      <td>83450.0</td>\n",
       "      <td>1.0</td>\n",
       "      <td>Used</td>\n",
       "      <td>Black</td>\n",
       "      <td>4.0</td>\n",
       "      <td>Automatic</td>\n",
       "      <td>...</td>\n",
       "      <td>MP3,On-board computer</td>\n",
       "      <td>Alloy wheels,Voice Control</td>\n",
       "      <td>ABS,Central door lock,Daytime running lights,D...</td>\n",
       "      <td>6.0</td>\n",
       "      <td>3.8</td>\n",
       "      <td>85.0</td>\n",
       "      <td>99.0</td>\n",
       "      <td>Cloth</td>\n",
       "      <td>1.6</td>\n",
       "      <td>3.0</td>\n",
       "    </tr>\n",
       "    <tr>\n",
       "      <th>3</th>\n",
       "      <td>Audi A1</td>\n",
       "      <td>Sedans</td>\n",
       "      <td>14500.0</td>\n",
       "      <td>No_Discount</td>\n",
       "      <td>73000.0</td>\n",
       "      <td>1.0</td>\n",
       "      <td>Used</td>\n",
       "      <td>Brown</td>\n",
       "      <td>4.0</td>\n",
       "      <td>Automatic</td>\n",
       "      <td>...</td>\n",
       "      <td>Bluetooth,CD player,Hands-free equipment,MP3,O...</td>\n",
       "      <td>Alloy wheels,Sport seats,Voice Control</td>\n",
       "      <td>ABS,Alarm system,Central door lock with remote...</td>\n",
       "      <td>6.0</td>\n",
       "      <td>3.8</td>\n",
       "      <td>66.0</td>\n",
       "      <td>99.0</td>\n",
       "      <td>Unknown</td>\n",
       "      <td>1.4</td>\n",
       "      <td>3.0</td>\n",
       "    </tr>\n",
       "    <tr>\n",
       "      <th>4</th>\n",
       "      <td>Audi A1</td>\n",
       "      <td>Sedans</td>\n",
       "      <td>16790.0</td>\n",
       "      <td>No_Discount</td>\n",
       "      <td>16200.0</td>\n",
       "      <td>1.0</td>\n",
       "      <td>Used</td>\n",
       "      <td>Black</td>\n",
       "      <td>5.0</td>\n",
       "      <td>Automatic</td>\n",
       "      <td>...</td>\n",
       "      <td>Bluetooth,CD player,Hands-free equipment,MP3,O...</td>\n",
       "      <td>Alloy wheels,Sport package,Sport suspension,Vo...</td>\n",
       "      <td>ABS,Central door lock,Driver-side airbag,Elect...</td>\n",
       "      <td>5.0</td>\n",
       "      <td>4.1</td>\n",
       "      <td>66.0</td>\n",
       "      <td>109.0</td>\n",
       "      <td>Cloth</td>\n",
       "      <td>1.4</td>\n",
       "      <td>3.0</td>\n",
       "    </tr>\n",
       "  </tbody>\n",
       "</table>\n",
       "<p>5 rows × 26 columns</p>\n",
       "</div>"
      ],
      "text/plain": [
       "     Model Body_Type    Price               Vat       Km  Prev_Owner  Type  \\\n",
       "0  Audi A1    Sedans  15770.0    VAT deductible  56013.0         2.0  Used   \n",
       "1  Audi A1    Sedans  14500.0  Price negotiable  80000.0         1.0  Used   \n",
       "2  Audi A1    Sedans  14640.0    VAT deductible  83450.0         1.0  Used   \n",
       "3  Audi A1    Sedans  14500.0       No_Discount  73000.0         1.0  Used   \n",
       "4  Audi A1    Sedans  16790.0       No_Discount  16200.0         1.0  Used   \n",
       "\n",
       "  Body_Color  Seat_Total  Gear_Type  ...  \\\n",
       "0      Black         5.0  Automatic  ...   \n",
       "1        Red         4.0  Automatic  ...   \n",
       "2      Black         4.0  Automatic  ...   \n",
       "3      Brown         4.0  Automatic  ...   \n",
       "4      Black         5.0  Automatic  ...   \n",
       "\n",
       "                                 Entertainment_Media  \\\n",
       "0  Bluetooth,Hands-free equipment,On-board comput...   \n",
       "1  Bluetooth,Hands-free equipment,On-board comput...   \n",
       "2                              MP3,On-board computer   \n",
       "3  Bluetooth,CD player,Hands-free equipment,MP3,O...   \n",
       "4  Bluetooth,CD player,Hands-free equipment,MP3,O...   \n",
       "\n",
       "                                              Extras  \\\n",
       "0     Alloy wheels,Catalytic Converter,Voice Control   \n",
       "1  Alloy wheels,Sport seats,Sport suspension,Voic...   \n",
       "2                         Alloy wheels,Voice Control   \n",
       "3             Alloy wheels,Sport seats,Voice Control   \n",
       "4  Alloy wheels,Sport package,Sport suspension,Vo...   \n",
       "\n",
       "                                     Safety_Security Gears Consumption     Hp  \\\n",
       "0  ABS,Central door lock,Daytime running lights,D...   5.0         3.8   66.0   \n",
       "1  ABS,Central door lock,Central door lock with r...   7.0         5.6  141.0   \n",
       "2  ABS,Central door lock,Daytime running lights,D...   6.0         3.8   85.0   \n",
       "3  ABS,Alarm system,Central door lock with remote...   6.0         3.8   66.0   \n",
       "4  ABS,Central door lock,Driver-side airbag,Elect...   5.0         4.1   66.0   \n",
       "\n",
       "  Emission Upholstery_Type Engine_Size  Age  \n",
       "0     99.0           Cloth         1.4  3.0  \n",
       "1    129.0           Cloth         1.8  2.0  \n",
       "2     99.0           Cloth         1.6  3.0  \n",
       "3     99.0         Unknown         1.4  3.0  \n",
       "4    109.0           Cloth         1.4  3.0  \n",
       "\n",
       "[5 rows x 26 columns]"
      ]
     },
     "execution_count": 2,
     "metadata": {},
     "output_type": "execute_result"
    }
   ],
   "source": [
    "df = pd.read_csv(\"AutoScout_No_Outlier\", index_col=[0])\n",
    "df.head()"
   ]
  },
  {
   "cell_type": "code",
   "execution_count": 3,
   "id": "ae048a5c",
   "metadata": {
    "ExecuteTime": {
     "end_time": "2022-10-01T11:34:49.053026Z",
     "start_time": "2022-10-01T11:34:48.953076Z"
    }
   },
   "outputs": [
    {
     "name": "stdout",
     "output_type": "stream",
     "text": [
      "<class 'pandas.core.frame.DataFrame'>\n",
      "Int64Index: 14371 entries, 0 to 15918\n",
      "Data columns (total 26 columns):\n",
      " #   Column               Non-Null Count  Dtype  \n",
      "---  ------               --------------  -----  \n",
      " 0   Model                14371 non-null  object \n",
      " 1   Body_Type            14371 non-null  object \n",
      " 2   Price                14371 non-null  float64\n",
      " 3   Vat                  14371 non-null  object \n",
      " 4   Km                   14371 non-null  float64\n",
      " 5   Prev_Owner           14371 non-null  float64\n",
      " 6   Type                 14371 non-null  object \n",
      " 7   Body_Color           14371 non-null  object \n",
      " 8   Seat_Total           14371 non-null  float64\n",
      " 9   Gear_Type            14371 non-null  object \n",
      " 10  Cylinders            14371 non-null  float64\n",
      " 11  Weight               14371 non-null  float64\n",
      " 12  Drive_Chain          14371 non-null  object \n",
      " 13  Fuel                 14371 non-null  object \n",
      " 14  Emission_Class       14371 non-null  object \n",
      " 15  Comfort_Convenience  14371 non-null  object \n",
      " 16  Entertainment_Media  14371 non-null  object \n",
      " 17  Extras               14371 non-null  object \n",
      " 18  Safety_Security      14371 non-null  object \n",
      " 19  Gears                14371 non-null  float64\n",
      " 20  Consumption          14371 non-null  float64\n",
      " 21  Hp                   14371 non-null  float64\n",
      " 22  Emission             14371 non-null  float64\n",
      " 23  Upholstery_Type      14371 non-null  object \n",
      " 24  Engine_Size          14371 non-null  float64\n",
      " 25  Age                  14371 non-null  float64\n",
      "dtypes: float64(12), object(14)\n",
      "memory usage: 3.0+ MB\n"
     ]
    }
   ],
   "source": [
    "df.info()"
   ]
  },
  {
   "cell_type": "code",
   "execution_count": 4,
   "id": "390a5cf8",
   "metadata": {
    "ExecuteTime": {
     "end_time": "2022-10-01T11:34:49.070430Z",
     "start_time": "2022-10-01T11:34:49.059030Z"
    }
   },
   "outputs": [],
   "source": [
    "def create_server_connection(driver, server, database, user, password):\n",
    "    conn = None\n",
    "    try: \n",
    "        conn = pyodbc.connect(DRIVER = driver, SERVER= server, DATABASE = database, UID= user, PWD= password)\n",
    "        print(\"Successfull\")\n",
    "    except Error as err:\n",
    "        print(f\"Error:'{err}'\")\n",
    "    return conn"
   ]
  },
  {
   "cell_type": "code",
   "execution_count": 5,
   "id": "520dc0d7",
   "metadata": {
    "ExecuteTime": {
     "end_time": "2022-10-01T11:34:49.201673Z",
     "start_time": "2022-10-01T11:34:49.084421Z"
    }
   },
   "outputs": [
    {
     "name": "stdout",
     "output_type": "stream",
     "text": [
      "Successfull\n"
     ]
    }
   ],
   "source": [
    "driver = '{ODBC Driver 17 for SQL Server}'\n",
    "server = 'localhost'\n",
    "database = 'master'\n",
    "user = 'sa'\n",
    "password = 'Deneme01'\n",
    "conn = create_server_connection(driver, server, database, user, password)"
   ]
  },
  {
   "cell_type": "code",
   "execution_count": 6,
   "id": "72e3058f",
   "metadata": {
    "ExecuteTime": {
     "end_time": "2022-10-01T11:34:49.217282Z",
     "start_time": "2022-10-01T11:34:49.201673Z"
    }
   },
   "outputs": [],
   "source": [
    "crs = conn.cursor()\n",
    "conn.autocommit = True"
   ]
  },
  {
   "cell_type": "code",
   "execution_count": 7,
   "id": "f306f205",
   "metadata": {
    "ExecuteTime": {
     "end_time": "2022-10-01T11:34:49.244881Z",
     "start_time": "2022-10-01T11:34:49.217282Z"
    }
   },
   "outputs": [],
   "source": [
    "create_database_query = 'CREATE DATABASE AutoScout'"
   ]
  },
  {
   "cell_type": "code",
   "execution_count": 8,
   "id": "5182c2de",
   "metadata": {
    "ExecuteTime": {
     "end_time": "2022-10-01T11:34:49.274363Z",
     "start_time": "2022-10-01T11:34:49.252720Z"
    }
   },
   "outputs": [],
   "source": [
    "def create_database(conn, create_database_query): #parametreler: connection nesnesi ve query nesnesi\n",
    "    crs = conn.cursor() #bir cursor nesnesi oluşturuyoruz. bunu query sonucundaki değerleri yakalamak için kullanacağız.\n",
    "    try:\n",
    "        crs.execute(create_database_query)#query'yi çalıştır sonucu yakala. queryleri excecute ile çalıştırıyoruz\n",
    "        print(\"Database is Created Successfuly\")\n",
    "    except Error as err:\n",
    "            print(f\"Error:'{err}'\")"
   ]
  },
  {
   "cell_type": "code",
   "execution_count": 9,
   "id": "10473cc8",
   "metadata": {
    "ExecuteTime": {
     "end_time": "2022-10-01T11:34:50.020666Z",
     "start_time": "2022-10-01T11:34:49.279359Z"
    }
   },
   "outputs": [
    {
     "name": "stdout",
     "output_type": "stream",
     "text": [
      "Database is Created Successfuly\n"
     ]
    }
   ],
   "source": [
    "create_database (conn, create_database_query)"
   ]
  },
  {
   "cell_type": "code",
   "execution_count": 10,
   "id": "b2eb74d8",
   "metadata": {
    "ExecuteTime": {
     "end_time": "2022-10-01T11:34:50.052315Z",
     "start_time": "2022-10-01T11:34:50.022145Z"
    }
   },
   "outputs": [
    {
     "data": {
      "text/plain": [
       "Index(['Model', 'Body_Type', 'Price', 'Vat', 'Km', 'Prev_Owner', 'Type',\n",
       "       'Body_Color', 'Seat_Total', 'Gear_Type', 'Cylinders', 'Weight',\n",
       "       'Drive_Chain', 'Fuel', 'Emission_Class', 'Comfort_Convenience',\n",
       "       'Entertainment_Media', 'Extras', 'Safety_Security', 'Gears',\n",
       "       'Consumption', 'Hp', 'Emission', 'Upholstery_Type', 'Engine_Size',\n",
       "       'Age'],\n",
       "      dtype='object')"
      ]
     },
     "execution_count": 10,
     "metadata": {},
     "output_type": "execute_result"
    }
   ],
   "source": [
    "df.columns"
   ]
  },
  {
   "cell_type": "code",
   "execution_count": 11,
   "id": "95d49db7",
   "metadata": {
    "ExecuteTime": {
     "end_time": "2022-10-01T11:34:50.083298Z",
     "start_time": "2022-10-01T11:34:50.062311Z"
    }
   },
   "outputs": [
    {
     "data": {
      "text/plain": [
       "Index(['Price', 'Km', 'Prev_Owner', 'Seat_Total', 'Cylinders', 'Weight',\n",
       "       'Gears', 'Consumption', 'Hp', 'Emission', 'Engine_Size', 'Age'],\n",
       "      dtype='object')"
      ]
     },
     "execution_count": 11,
     "metadata": {},
     "output_type": "execute_result"
    }
   ],
   "source": [
    "df.select_dtypes(np.number).columns"
   ]
  },
  {
   "cell_type": "code",
   "execution_count": 12,
   "id": "9fdbf6d2",
   "metadata": {
    "ExecuteTime": {
     "end_time": "2022-10-01T11:34:50.141504Z",
     "start_time": "2022-10-01T11:34:50.092293Z"
    }
   },
   "outputs": [],
   "source": [
    "df[['Price', 'Km', 'Prev_Owner', 'Seat_Total', 'Cylinders', 'Weight', 'Gears', 'Age']] = df[['Price', \n",
    "    'Km', 'Prev_Owner', 'Seat_Total', 'Cylinders', 'Weight','Gears', 'Age']].astype(int)"
   ]
  },
  {
   "cell_type": "code",
   "execution_count": 13,
   "id": "f38946c7",
   "metadata": {
    "ExecuteTime": {
     "end_time": "2022-10-01T11:34:50.270975Z",
     "start_time": "2022-10-01T11:34:50.154302Z"
    }
   },
   "outputs": [
    {
     "name": "stdout",
     "output_type": "stream",
     "text": [
      "<class 'pandas.core.frame.DataFrame'>\n",
      "Int64Index: 14371 entries, 0 to 15918\n",
      "Data columns (total 26 columns):\n",
      " #   Column               Non-Null Count  Dtype  \n",
      "---  ------               --------------  -----  \n",
      " 0   Model                14371 non-null  object \n",
      " 1   Body_Type            14371 non-null  object \n",
      " 2   Price                14371 non-null  int32  \n",
      " 3   Vat                  14371 non-null  object \n",
      " 4   Km                   14371 non-null  int32  \n",
      " 5   Prev_Owner           14371 non-null  int32  \n",
      " 6   Type                 14371 non-null  object \n",
      " 7   Body_Color           14371 non-null  object \n",
      " 8   Seat_Total           14371 non-null  int32  \n",
      " 9   Gear_Type            14371 non-null  object \n",
      " 10  Cylinders            14371 non-null  int32  \n",
      " 11  Weight               14371 non-null  int32  \n",
      " 12  Drive_Chain          14371 non-null  object \n",
      " 13  Fuel                 14371 non-null  object \n",
      " 14  Emission_Class       14371 non-null  object \n",
      " 15  Comfort_Convenience  14371 non-null  object \n",
      " 16  Entertainment_Media  14371 non-null  object \n",
      " 17  Extras               14371 non-null  object \n",
      " 18  Safety_Security      14371 non-null  object \n",
      " 19  Gears                14371 non-null  int32  \n",
      " 20  Consumption          14371 non-null  float64\n",
      " 21  Hp                   14371 non-null  float64\n",
      " 22  Emission             14371 non-null  float64\n",
      " 23  Upholstery_Type      14371 non-null  object \n",
      " 24  Engine_Size          14371 non-null  float64\n",
      " 25  Age                  14371 non-null  int32  \n",
      "dtypes: float64(4), int32(8), object(14)\n",
      "memory usage: 2.5+ MB\n"
     ]
    }
   ],
   "source": [
    "df.info()"
   ]
  },
  {
   "cell_type": "code",
   "execution_count": 44,
   "id": "6d8dd30f",
   "metadata": {
    "ExecuteTime": {
     "end_time": "2022-10-01T12:04:46.718761Z",
     "start_time": "2022-10-01T12:04:46.695798Z"
    }
   },
   "outputs": [],
   "source": [
    "df.drop(columns=[\"Comfort_Convenience\",\"Entertainment_Media\",\"Extras\",\"Safety_Security\"], inplace=True)"
   ]
  },
  {
   "cell_type": "code",
   "execution_count": 45,
   "id": "4640f4cb",
   "metadata": {
    "ExecuteTime": {
     "end_time": "2022-10-01T12:04:58.910324Z",
     "start_time": "2022-10-01T12:04:58.884339Z"
    }
   },
   "outputs": [
    {
     "data": {
      "text/plain": [
       "<pyodbc.Cursor at 0x1bed3fca030>"
      ]
     },
     "execution_count": 45,
     "metadata": {},
     "output_type": "execute_result"
    }
   ],
   "source": [
    "crs.execute(\"USE AutoScout\")\n",
    "crs.execute(\"\"\"CREATE TABLE Cars(\n",
    "Model NVARCHAR(20),\n",
    "Body_Type NVARCHAR(20),\n",
    "Price INT,\n",
    "Vat NVARCHAR(20),\n",
    "Km INT,\n",
    "Prev_Owner INT,\n",
    "Type NVARCHAR(15),\n",
    "Body_Color NVARCHAR(15),\n",
    "Seat_Total TINYINT,\n",
    "Gear_Type NVARCHAR(15),\n",
    "Cylinders TINYINT,\n",
    "Weight INT,\n",
    "Drive_Chain NVARCHAR(15),\n",
    "Fuel NVARCHAR(15),\n",
    "Emission_Class NVARCHAR(10),\n",
    "Gears TINYINT,\n",
    "Consumption NUMERIC,\n",
    "Hp NUMERIC,\n",
    "Emission NUMERIC,\n",
    "Upholstery_Type NVARCHAR(20),\n",
    "Engine_Size NUMERIC,\n",
    "Age TINYINT,\n",
    "\n",
    ")\"\"\")"
   ]
  },
  {
   "cell_type": "code",
   "execution_count": 46,
   "id": "0779a433",
   "metadata": {
    "ExecuteTime": {
     "end_time": "2022-10-01T12:05:09.474122Z",
     "start_time": "2022-10-01T12:05:09.456057Z"
    }
   },
   "outputs": [],
   "source": [
    "sql = 'INSERT Cars VALUES (?,?,?,?,?,?,?,?,?,?,?,?,?,?,?,?,?,?,?,?,?,?)'"
   ]
  },
  {
   "cell_type": "code",
   "execution_count": 47,
   "id": "9031687c",
   "metadata": {
    "ExecuteTime": {
     "end_time": "2022-10-01T12:05:38.388843Z",
     "start_time": "2022-10-01T12:05:20.201112Z"
    }
   },
   "outputs": [],
   "source": [
    "for index, row in df.iterrows():\n",
    "    crs.execute(sql, (row[\"Model\"], row[\"Body_Type\"], row['Price'], row['Vat'], row['Km'], row['Prev_Owner'],\n",
    "                     row[\"Type\"],row[\"Body_Color\"],row[\"Seat_Total\"],row[\"Gear_Type\"],row[\"Cylinders\"],\n",
    "                     row[\"Weight\"],row[\"Drive_Chain\"],row[\"Fuel\"],row[\"Emission_Class\"],row[\"Gears\"],row[\"Consumption\"],row[\"Hp\"],row[\"Emission\"],\n",
    "                     row[\"Upholstery_Type\"],row[\"Engine_Size\"],row[\"Age\"]))"
   ]
  },
  {
   "cell_type": "raw",
   "id": "cd51c0b0",
   "metadata": {},
   "source": []
  }
 ],
 "metadata": {
  "hide_input": false,
  "kernelspec": {
   "display_name": "Python 3 (ipykernel)",
   "language": "python",
   "name": "python3"
  },
  "language_info": {
   "codemirror_mode": {
    "name": "ipython",
    "version": 3
   },
   "file_extension": ".py",
   "mimetype": "text/x-python",
   "name": "python",
   "nbconvert_exporter": "python",
   "pygments_lexer": "ipython3",
   "version": "3.8.12"
  },
  "toc": {
   "base_numbering": 1,
   "nav_menu": {},
   "number_sections": true,
   "sideBar": true,
   "skip_h1_title": false,
   "title_cell": "Table of Contents",
   "title_sidebar": "Contents",
   "toc_cell": false,
   "toc_position": {},
   "toc_section_display": true,
   "toc_window_display": false
  }
 },
 "nbformat": 4,
 "nbformat_minor": 5
}
