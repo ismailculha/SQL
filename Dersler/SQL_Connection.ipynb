{
 "cells": [
  {
   "cell_type": "code",
   "execution_count": 33,
   "id": "6569ee83",
   "metadata": {},
   "outputs": [],
   "source": [
    "import pyodbc \n"
   ]
  },
  {
   "cell_type": "markdown",
   "id": "24d371fb",
   "metadata": {},
   "source": [
    "Connection Objects\n",
    "Connection objects should respond to the following methods.\n",
    "\n",
    ".close(): Close the connection. \n",
    "Aradaki bağlantıyı kapatır\n",
    "\n",
    ".commit(): Commit any pending transaction to the database.\n",
    "Bekleyen herhangi bir işlemi veritabanına yaptırır\n",
    "\n",
    ".rollback(): In case a database does provide transactions this method causes the database to roll back to the start of any pending transaction.\n",
    "\n",
    "Bir veritabanının işlem sağlaması durumunda, bu yöntem veritabanının bekleyen herhangi bir işlemin başlangıcına geri dönmesine neden olur.\n",
    "\n",
    ".cursor(): Return a new Cursor Object using the connection."
   ]
  },
  {
   "cell_type": "markdown",
   "id": "767a894d",
   "metadata": {},
   "source": [
    "Cursor Attributes\n",
    "\n",
    ".description: This read-only attribute is a sequence of 7-item sequences: name, type_code, display_size, internal_size, precision, scale, null_ok\n",
    "Each of these sequences contains information describing one result column.\n",
    "\n",
    ".rowcount: This read-only attribute specifies the number of rows that the last \n",
    "\n",
    ".execute() produced. The attribute is -1 in case no .execute() has been performed on the cursor."
   ]
  },
  {
   "cell_type": "markdown",
   "id": "cbd9b57a",
   "metadata": {},
   "source": [
    "Cursor methods\n",
    "\n",
    ".callproc( procname [, parameters ] ): Call a stored database procedure with the given name.\n",
    "\n",
    ".close(): Close the cursor.\n",
    "\n",
    "The cursor will be unusable from this point forward; an Error (or subclass) exception will be raised if any operation is attempted with the cursor.\n",
    "\n",
    ".execute(operation [, parameters]): Prepare and execute a database operation (query or command).\n",
    "\n",
    ".executemany( operation, seq_of_parameters ): Prepare a database operation (query or command) and then execute it against all parameter sequences or mappings found in the sequence seq_of_parameters.\n",
    "\n",
    "\n",
    ".fetchone(): Fetch the next row of a query result set, returning a single sequence, or None when no more data is available.\n",
    "\n",
    "An Error (or subclass) exception is raised if the previous call to .execute() did not produce any result set or no call was issued yet.\n",
    "\n",
    ".fetchmany([size=cursor.arraysize]): Fetch the next set of rows of a query result, returning a sequence of sequences (e.g. a list of tuples). An empty sequence is returned when no more rows are available.\n",
    "\n",
    "An Error (or subclass) exception is raised if the previous call to .execute() did not produce any result set or no call was issued yet.\n",
    "\n",
    ".fetchall(): Fetch all (remaining) rows of a query result, returning them as a sequence of sequences (e.g. a list of tuples). Note that the cursor's array size attribute can affect the performance of this operation.\n",
    "\n",
    "An Error (or subclass) exception is raised if the previous call to .execute() did not produce any result set or no call was issued yet."
   ]
  },
  {
   "cell_type": "code",
   "execution_count": 37,
   "id": "4bdc4fd2",
   "metadata": {},
   "outputs": [
    {
     "name": "stdout",
     "output_type": "stream",
     "text": [
      "MS SQL Server Database connection successful\n"
     ]
    }
   ],
   "source": [
    "#database bağlanma kodu\n",
    "#bu şekilde bağlanma gerçekleşiyor\n",
    "def create_server_connection(driver, server, database, user, password):\n",
    "    conn = None\n",
    "    try:\n",
    "        conn = pyodbc.connect(DRIVER = driver, SERVER = server, DATABASE = database, UID = user, PWD = password)\n",
    "        print(\"MS SQL Server Database connection successful\")\n",
    "    except Error as err:\n",
    "        print(f\"Error: '{err}'\")\n",
    "    return conn\n",
    "\n",
    "\n",
    "driver = '{ODBC Driver 17 for SQL Server}'\n",
    "server = 'localhost' \n",
    "database = 'master' \n",
    "user = 'sa' \n",
    "password = 'Deneme01'\n",
    "conn = create_server_connection(driver, server, database, user, password)"
   ]
  },
  {
   "cell_type": "code",
   "execution_count": 39,
   "id": "66793c21",
   "metadata": {},
   "outputs": [
    {
     "ename": "NameError",
     "evalue": "name 'Error' is not defined",
     "output_type": "error",
     "traceback": [
      "\u001b[1;31m---------------------------------------------------------------------------\u001b[0m",
      "\u001b[1;31mProgrammingError\u001b[0m                          Traceback (most recent call last)",
      "\u001b[1;32m~\\AppData\\Local\\Temp/ipykernel_9548/443691236.py\u001b[0m in \u001b[0;36mcreate_database\u001b[1;34m(conn, create_database_query)\u001b[0m\n\u001b[0;32m      4\u001b[0m     \u001b[1;32mtry\u001b[0m\u001b[1;33m:\u001b[0m\u001b[1;33m\u001b[0m\u001b[1;33m\u001b[0m\u001b[0m\n\u001b[1;32m----> 5\u001b[1;33m         \u001b[0mcsr\u001b[0m\u001b[1;33m.\u001b[0m\u001b[0mexecute\u001b[0m\u001b[1;33m(\u001b[0m\u001b[0mcreate_database_query\u001b[0m\u001b[1;33m)\u001b[0m\u001b[1;33m\u001b[0m\u001b[1;33m\u001b[0m\u001b[0m\n\u001b[0m\u001b[0;32m      6\u001b[0m         \u001b[0mprint\u001b[0m\u001b[1;33m(\u001b[0m\u001b[1;34m\"Database created successfully\"\u001b[0m\u001b[1;33m)\u001b[0m\u001b[1;33m\u001b[0m\u001b[1;33m\u001b[0m\u001b[0m\n",
      "\u001b[1;31mProgrammingError\u001b[0m: ('42000', \"[42000] [Microsoft][ODBC Driver 17 for SQL Server][SQL Server]Database 'TestDB' already exists. Choose a different database name. (1801) (SQLExecDirectW)\")",
      "\nDuring handling of the above exception, another exception occurred:\n",
      "\u001b[1;31mNameError\u001b[0m                                 Traceback (most recent call last)",
      "\u001b[1;32m~\\AppData\\Local\\Temp/ipykernel_9548/443691236.py\u001b[0m in \u001b[0;36m<module>\u001b[1;34m\u001b[0m\n\u001b[0;32m     11\u001b[0m \u001b[0mconn\u001b[0m\u001b[1;33m.\u001b[0m\u001b[0mautocommit\u001b[0m \u001b[1;33m=\u001b[0m \u001b[1;32mTrue\u001b[0m\u001b[1;33m\u001b[0m\u001b[1;33m\u001b[0m\u001b[0m\n\u001b[0;32m     12\u001b[0m \u001b[0mcreate_database_query\u001b[0m \u001b[1;33m=\u001b[0m \u001b[1;34m'CREATE DATABASE TestDB'\u001b[0m\u001b[1;33m\u001b[0m\u001b[1;33m\u001b[0m\u001b[0m\n\u001b[1;32m---> 13\u001b[1;33m \u001b[0mcreate_database\u001b[0m\u001b[1;33m(\u001b[0m\u001b[0mconn\u001b[0m\u001b[1;33m,\u001b[0m \u001b[0mcreate_database_query\u001b[0m\u001b[1;33m)\u001b[0m\u001b[1;33m\u001b[0m\u001b[1;33m\u001b[0m\u001b[0m\n\u001b[0m",
      "\u001b[1;32m~\\AppData\\Local\\Temp/ipykernel_9548/443691236.py\u001b[0m in \u001b[0;36mcreate_database\u001b[1;34m(conn, create_database_query)\u001b[0m\n\u001b[0;32m      5\u001b[0m         \u001b[0mcsr\u001b[0m\u001b[1;33m.\u001b[0m\u001b[0mexecute\u001b[0m\u001b[1;33m(\u001b[0m\u001b[0mcreate_database_query\u001b[0m\u001b[1;33m)\u001b[0m\u001b[1;33m\u001b[0m\u001b[1;33m\u001b[0m\u001b[0m\n\u001b[0;32m      6\u001b[0m         \u001b[0mprint\u001b[0m\u001b[1;33m(\u001b[0m\u001b[1;34m\"Database created successfully\"\u001b[0m\u001b[1;33m)\u001b[0m\u001b[1;33m\u001b[0m\u001b[1;33m\u001b[0m\u001b[0m\n\u001b[1;32m----> 7\u001b[1;33m     \u001b[1;32mexcept\u001b[0m \u001b[0mError\u001b[0m \u001b[1;32mas\u001b[0m \u001b[0merr\u001b[0m\u001b[1;33m:\u001b[0m\u001b[1;33m\u001b[0m\u001b[1;33m\u001b[0m\u001b[0m\n\u001b[0m\u001b[0;32m      8\u001b[0m         \u001b[0mprint\u001b[0m\u001b[1;33m(\u001b[0m\u001b[1;34mf\"Error: '{err}'\"\u001b[0m\u001b[1;33m)\u001b[0m\u001b[1;33m\u001b[0m\u001b[1;33m\u001b[0m\u001b[0m\n\u001b[0;32m      9\u001b[0m \u001b[1;33m\u001b[0m\u001b[0m\n",
      "\u001b[1;31mNameError\u001b[0m: name 'Error' is not defined"
     ]
    }
   ],
   "source": [
    "#yeni database oluşturma\n",
    "def create_database(conn, create_database_query):\n",
    "    csr = conn.cursor()\n",
    "    try:\n",
    "        csr.execute(create_database_query)\n",
    "        print(\"Database created successfully\")\n",
    "    except Error as err:\n",
    "        print(f\"Error: '{err}'\")\n",
    "    \n",
    "\n",
    "conn.autocommit = True\n",
    "create_database_query = 'CREATE DATABASE TestDB'\n",
    "create_database(conn, create_database_query)"
   ]
  },
  {
   "cell_type": "code",
   "execution_count": 40,
   "id": "536a4259",
   "metadata": {},
   "outputs": [
    {
     "name": "stdout",
     "output_type": "stream",
     "text": [
      "Query successful\n",
      "Query successful\n"
     ]
    }
   ],
   "source": [
    "#yeni bir query'yi execute etme\n",
    "def execute_query(conn, query):\n",
    "    csr = conn.cursor()\n",
    "    try:\n",
    "        csr.execute(query)\n",
    "        conn.commit()\n",
    "        print(\"Query successful\")\n",
    "    \n",
    "    except Error as err:\n",
    "        print(f\"Error: '{err}'\")\n",
    "\n",
    "\n",
    "query =\"USE SampleRetail\"\n",
    "execute_query(conn, query)\n",
    "\n",
    "# Query successful\n",
    "\n",
    "query = \"\"\"SELECT product_name, list_price\n",
    "\t   FROM product.product\"\"\"\n",
    "execute_query(conn, query)"
   ]
  },
  {
   "cell_type": "code",
   "execution_count": 41,
   "id": "0802cd75",
   "metadata": {},
   "outputs": [
    {
     "name": "stdout",
     "output_type": "stream",
     "text": [
      "('DENAQ - AC Adapter for TOSHIBA SATELLITE 1700 1710 1715 1730 1735 1750 1755 1955 3000 3005 A100 M30X M35X - Black', Decimal('23.99'))\n"
     ]
    }
   ],
   "source": [
    "csr = conn.cursor()\n",
    "csr.execute(\"SELECT TOP 5 product_name, list_price FROM product.product\")\n",
    "row = csr.fetchone()\n",
    "if row:\n",
    "    print(row)\n",
    "#Burası sadece tek row getiriyor"
   ]
  },
  {
   "cell_type": "code",
   "execution_count": 42,
   "id": "2c260333",
   "metadata": {},
   "outputs": [
    {
     "name": "stdout",
     "output_type": "stream",
     "text": [
      "list_price: 23.99\n",
      "list_price: 23.99\n"
     ]
    }
   ],
   "source": [
    "csr.execute(\"SELECT TOP 5 product_name, list_price FROM product.product\")\n",
    "row = csr.fetchone()\n",
    "print('list_price:', row[1]) # access by column index (zero-based)\n",
    "print('list_price:', row.list_price) # access by name"
   ]
  },
  {
   "cell_type": "code",
   "execution_count": 43,
   "id": "3316c6a3",
   "metadata": {},
   "outputs": [
    {
     "name": "stdout",
     "output_type": "stream",
     "text": [
      "product_name: DENAQ - AC Adapter for TOSHIBA SATELLITE 1700 1710 1715 1730 1735 1750 1755 1955 3000 3005 A100 M30X M35X - Black\n",
      "product_name: NS-SP1800BL 5.1-Channel Home Theater System (Black)\n",
      "product_name: Acoustimass 6 Series V Home Theater Speaker System (Black)\n",
      "product_name: Corsair Vengeance LPX 16GB (2x8GB) DDR4 DRAM 3000MHz C15 Desktop Memory Kit - Black (CMK16GX4M2B3000C15)\n",
      "product_name: Details About Samsung Gear Iconx 2018 Edition Cordfree Fitness Earbuds Black (us Version)\n"
     ]
    }
   ],
   "source": [
    "csr.execute(\"SELECT TOP 5 product_name, list_price FROM product.product\")\n",
    "while True:\n",
    "    row = csr.fetchone()\n",
    "    if not row:\n",
    "        break\n",
    "    print('product_name:', row.product_name)"
   ]
  },
  {
   "cell_type": "markdown",
   "id": "8445723e",
   "metadata": {},
   "source": [
    "All SQL statements are executed using the Cursor execute() function. If the statement returns rows, such as a select statement, you can retrieve them using the Cursor fetch functions - fetchone(), fetchall(), fetchmany(). If there are no rows, fetchone() will return None, whereas fetchall() and fetchmany() will both return empty lists."
   ]
  },
  {
   "cell_type": "code",
   "execution_count": 44,
   "id": "16a0c3f5",
   "metadata": {},
   "outputs": [
    {
     "name": "stdout",
     "output_type": "stream",
     "text": [
      "DENAQ - AC Adapter for TOSHIBA SATELLITE 1700 1710 1715 1730 1735 1750 1755 1955 3000 3005 A100 M30X M35X - Black 23.99\n",
      "NS-SP1800BL 5.1-Channel Home Theater System (Black) 136.99\n",
      "Acoustimass 6 Series V Home Theater Speaker System (Black) 599.00\n",
      "Corsair Vengeance LPX 16GB (2x8GB) DDR4 DRAM 3000MHz C15 Desktop Memory Kit - Black (CMK16GX4M2B3000C15) 151.99\n",
      "Details About Samsung Gear Iconx 2018 Edition Cordfree Fitness Earbuds Black (us Version) 199.99\n"
     ]
    }
   ],
   "source": [
    "csr.execute(\"SELECT TOP 5 product_name, list_price FROM product.product\")\n",
    "rows = csr.fetchall()\n",
    "for row in rows:\n",
    "    print(row.product_name, row.list_price)"
   ]
  },
  {
   "cell_type": "code",
   "execution_count": 45,
   "id": "f1e2663d",
   "metadata": {},
   "outputs": [
    {
     "name": "stdout",
     "output_type": "stream",
     "text": [
      "DENAQ - AC Adapter for TOSHIBA SATELLITE 1700 1710 1715 1730 1735 1750 1755 1955 3000 3005 A100 M30X M35X - Black 23.99\n",
      "NS-SP1800BL 5.1-Channel Home Theater System (Black) 136.99\n",
      "Acoustimass 6 Series V Home Theater Speaker System (Black) 599.00\n",
      "Corsair Vengeance LPX 16GB (2x8GB) DDR4 DRAM 3000MHz C15 Desktop Memory Kit - Black (CMK16GX4M2B3000C15) 151.99\n",
      "Details About Samsung Gear Iconx 2018 Edition Cordfree Fitness Earbuds Black (us Version) 199.99\n",
      "DENAQ - AC Adapter for TOSHIBA SATELLITE 1700 1710 1715 1730 1735 1750 1755 1955 3000 3005 A100 M30X M35X - Black 23.99\n",
      "NS-SP1800BL 5.1-Channel Home Theater System (Black) 136.99\n",
      "Acoustimass 6 Series V Home Theater Speaker System (Black) 599.00\n",
      "Corsair Vengeance LPX 16GB (2x8GB) DDR4 DRAM 3000MHz C15 Desktop Memory Kit - Black (CMK16GX4M2B3000C15) 151.99\n",
      "Details About Samsung Gear Iconx 2018 Edition Cordfree Fitness Earbuds Black (us Version) 199.99\n"
     ]
    }
   ],
   "source": [
    "csr.execute(\"SELECT TOP 5 product_name, list_price FROM product.product\")\n",
    "for row in csr:\n",
    "    print(row.product_name, row.list_price)\n",
    "\n",
    "#or just:\n",
    "\n",
    "for row in csr.execute(\"SELECT TOP 5 product_name, list_price FROM product.product\"):\n",
    "    print(row.product_name, row.list_price)"
   ]
  },
  {
   "cell_type": "code",
   "execution_count": 46,
   "id": "fa17c6a7",
   "metadata": {},
   "outputs": [
    {
     "name": "stdout",
     "output_type": "stream",
     "text": [
      "('William', 'Williams', 'Charlotte')\n"
     ]
    }
   ],
   "source": [
    "csr.execute(\"\"\"SELECT TOP 5 first_name, last_name, city FROM sale.customer\n",
    "               WHERE city = ?\"\"\", 'Charlotte')\n",
    "row = csr.fetchone()\n",
    "if row:\n",
    "    print(row)"
   ]
  },
  {
   "cell_type": "code",
   "execution_count": 47,
   "id": "b2917e0d",
   "metadata": {},
   "outputs": [
    {
     "name": "stdout",
     "output_type": "stream",
     "text": [
      "('Nana', 'Gaines')\n"
     ]
    }
   ],
   "source": [
    "csr.execute(\"\"\"SELECT first_name, last_name FROM sale.customer\n",
    "\t\twhere first_name= ? and last_name= ?\"\"\", ['Nana', 'Gaines'])\n",
    "row = csr.fetchone()\n",
    "if row:\n",
    "    print(row)"
   ]
  },
  {
   "cell_type": "code",
   "execution_count": null,
   "id": "60b1ea39",
   "metadata": {},
   "outputs": [],
   "source": [
    "# def read_query(conn, query):\n",
    "#     csr = conn.cursor()\n",
    "#     results = None\n",
    "#     try:\n",
    "#         csr.execute(query)\n",
    "#         results = csr.fetchall()\n",
    "#         # Close and delete cursor\n",
    "#         csr.close()\n",
    "#         del csr\n",
    "#         return results    \n",
    "#     except Error as err:\n",
    "#         print(f\"Error: '{err}'\")\n",
    "\n",
    "# query = \"SELECT TOP 5 first_name, last_name, city FROM sale.customer\"\n",
    "# execute_query(conn, query)\n",
    "# results = read_query(conn, query)\n",
    "# print(results)\n",
    "# conn.close()\n",
    "\n",
    "# import pandas as pd\n",
    "# from_db = []\n",
    "\n",
    "# for result in results:\n",
    "#     result = list(result)\n",
    "#     from_db.append(result)\n",
    "\n",
    "# columns = ['first_name', 'last_name']\n",
    "# df = pd.DataFrame(from_db, columns=columns)\n",
    "# display(df)"
   ]
  },
  {
   "cell_type": "code",
   "execution_count": 50,
   "id": "57262d88",
   "metadata": {},
   "outputs": [
    {
     "data": {
      "text/plain": [
       "40"
      ]
     },
     "execution_count": 50,
     "metadata": {},
     "output_type": "execute_result"
    }
   ],
   "source": [
    "maxid = csr.execute(\"select max(brand_id) from product.brand\").fetchval()\n",
    "maxid"
   ]
  },
  {
   "cell_type": "markdown",
   "id": "ef7f26f1",
   "metadata": {},
   "source": [
    "The fetchone() call returns None. Python then attempts to apply [0] to the result (None[0]) which is not valid.\n",
    "\n",
    "The fetchval method was created just for this situation - it will detect the fact that there are no rows and will return None."
   ]
  },
  {
   "cell_type": "code",
   "execution_count": null,
   "id": "b969a35c",
   "metadata": {},
   "outputs": [],
   "source": []
  },
  {
   "cell_type": "code",
   "execution_count": null,
   "id": "7533ffe8",
   "metadata": {},
   "outputs": [],
   "source": []
  },
  {
   "cell_type": "code",
   "execution_count": null,
   "id": "f171489a",
   "metadata": {},
   "outputs": [],
   "source": []
  },
  {
   "cell_type": "code",
   "execution_count": null,
   "id": "246513ad",
   "metadata": {},
   "outputs": [],
   "source": []
  },
  {
   "cell_type": "code",
   "execution_count": null,
   "id": "f2316c33",
   "metadata": {},
   "outputs": [],
   "source": []
  },
  {
   "cell_type": "code",
   "execution_count": null,
   "id": "724453a4",
   "metadata": {},
   "outputs": [],
   "source": []
  }
 ],
 "metadata": {
  "kernelspec": {
   "display_name": "Python 3 (ipykernel)",
   "language": "python",
   "name": "python3"
  },
  "language_info": {
   "codemirror_mode": {
    "name": "ipython",
    "version": 3
   },
   "file_extension": ".py",
   "mimetype": "text/x-python",
   "name": "python",
   "nbconvert_exporter": "python",
   "pygments_lexer": "ipython3",
   "version": "3.8.12"
  },
  "toc": {
   "base_numbering": 1,
   "nav_menu": {},
   "number_sections": true,
   "sideBar": true,
   "skip_h1_title": false,
   "title_cell": "Table of Contents",
   "title_sidebar": "Contents",
   "toc_cell": false,
   "toc_position": {},
   "toc_section_display": true,
   "toc_window_display": false
  }
 },
 "nbformat": 4,
 "nbformat_minor": 5
}
